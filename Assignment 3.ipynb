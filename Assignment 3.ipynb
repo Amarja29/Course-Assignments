{
 "cells": [
  {
   "cell_type": "markdown",
   "id": "c472ad1a",
   "metadata": {},
   "source": [
    "# Class Assignment 3"
   ]
  },
  {
   "cell_type": "markdown",
   "id": "adb30b54",
   "metadata": {},
   "source": [
    "### Pattern 1"
   ]
  },
  {
   "cell_type": "code",
   "execution_count": 1,
   "id": "32311363",
   "metadata": {},
   "outputs": [
    {
     "name": "stdout",
     "output_type": "stream",
     "text": [
      "ineuron \n",
      "\n",
      "ineuron ineuron \n",
      "\n",
      "ineuron ineuron ineuron \n",
      "\n",
      "ineuron ineuron ineuron ineuron \n",
      "\n"
     ]
    }
   ],
   "source": [
    "for i in range(4):\n",
    "    for j in range(0,i+1):\n",
    "        print('ineuron',end=' ')\n",
    "    print('\\n')    "
   ]
  },
  {
   "cell_type": "markdown",
   "id": "86c53ec5",
   "metadata": {},
   "source": [
    "### Pattern 2"
   ]
  },
  {
   "cell_type": "code",
   "execution_count": 85,
   "id": "9c94c974",
   "metadata": {},
   "outputs": [
    {
     "name": "stdout",
     "output_type": "stream",
     "text": [
      "enter row numbers 6\n",
      "                              \n",
      "           ineuron            \n",
      "       ineuron ineuron        \n",
      "   ineuron ineuron ineuron    \n",
      "       ineuron ineuron        \n",
      "           ineuron            \n"
     ]
    }
   ],
   "source": [
    "num=int(input(\"enter row numbers \"))\n",
    "for i in range(num):\n",
    "    if i<=(num/2):\n",
    "        n=i\n",
    "    else:\n",
    "        n=num-i\n",
    "    print((\"ineuron \"*n).center(30,' '))    "
   ]
  },
  {
   "cell_type": "code",
   "execution_count": 2,
   "id": "6f5ec537",
   "metadata": {},
   "outputs": [],
   "source": [
    "l=[[1,2,3,4],(2,3,4,5,6),(3,4,5,6,7),set([23,4,5,45,4,4,5,45,45,4,5]),{'k1':'sudh','k2':'ineuron','k3':'kumar',3:6,7:8},['ineuron','data science']]"
   ]
  },
  {
   "cell_type": "code",
   "execution_count": 20,
   "id": "a10a4a18",
   "metadata": {},
   "outputs": [
    {
     "data": {
      "text/plain": [
       "[[1, 2, 3, 4],\n",
       " (2, 3, 4, 5, 6),\n",
       " (3, 4, 5, 6, 7),\n",
       " {4, 5, 23, 45},\n",
       " {'k1': 'sudh', 'k2': 'ineuron', 'k3': 'kumar', 3: 6, 7: 8},\n",
       " ['ineuron', 'data science']]"
      ]
     },
     "execution_count": 20,
     "metadata": {},
     "output_type": "execute_result"
    }
   ],
   "source": [
    "l"
   ]
  },
  {
   "cell_type": "code",
   "execution_count": 21,
   "id": "9af474f7",
   "metadata": {},
   "outputs": [
    {
     "name": "stdout",
     "output_type": "stream",
     "text": [
      "[[1, 2, 3, 4], ['ineuron', 'data science']]\n"
     ]
    }
   ],
   "source": [
    "# list entities:\n",
    "l1=[]\n",
    "for i in l:\n",
    "    if type(i)==list:\n",
    "        l1.append(i)\n",
    "print(l1)        "
   ]
  },
  {
   "cell_type": "code",
   "execution_count": 19,
   "id": "19868aea",
   "metadata": {},
   "outputs": [
    {
     "name": "stdout",
     "output_type": "stream",
     "text": [
      "{'k1': 'sudh', 'k2': 'ineuron', 'k3': 'kumar', 3: 6, 7: 8}  \n"
     ]
    }
   ],
   "source": [
    "#dict enenties\n",
    "for i in l:\n",
    "    if type(i)==dict:\n",
    "        print(i,\" \")        "
   ]
  },
  {
   "cell_type": "code",
   "execution_count": 22,
   "id": "181d6291",
   "metadata": {},
   "outputs": [
    {
     "name": "stdout",
     "output_type": "stream",
     "text": [
      "(2, 3, 4, 5, 6)  \n",
      "(3, 4, 5, 6, 7)  \n"
     ]
    }
   ],
   "source": [
    "#Tuples\n",
    "for i in l:\n",
    "    if type(i)==tuple:\n",
    "        print(i,\" \")        "
   ]
  },
  {
   "cell_type": "code",
   "execution_count": 34,
   "id": "4ddfa768",
   "metadata": {},
   "outputs": [
    {
     "name": "stdout",
     "output_type": "stream",
     "text": [
      "[1, 2, 3, 4, 2, 3, 4, 5, 6, 3, 4, 5, 6, 7, 45, 4, 5, 23, 3, 6, 7, 8]\n"
     ]
    }
   ],
   "source": [
    "#all numerical data\n",
    "num=[]\n",
    "for i in l:\n",
    "    if type(i)==tuple or type(i)==set or type(i)==list:\n",
    "        for j in i:\n",
    "            if type(j)==int:\n",
    "                num.append(j)\n",
    "                \n",
    "    elif type(i)==dict:\n",
    "        for k,v in i.items():\n",
    "            if type(k)==int:\n",
    "                num.append(k)\n",
    "            if type(v)==int:\n",
    "                num.append(v)\n",
    "print(num)                \n",
    "            \n",
    "            "
   ]
  },
  {
   "cell_type": "code",
   "execution_count": 36,
   "id": "eafc7f58",
   "metadata": {},
   "outputs": [
    {
     "name": "stdout",
     "output_type": "stream",
     "text": [
      "156\n"
     ]
    }
   ],
   "source": [
    "#numerical sum\n",
    "sum=0\n",
    "for i in num:\n",
    "    sum=sum+i\n",
    "print(sum)    "
   ]
  },
  {
   "cell_type": "code",
   "execution_count": 41,
   "id": "89be87e7",
   "metadata": {},
   "outputs": [
    {
     "name": "stdout",
     "output_type": "stream",
     "text": [
      "[1, 3]\n"
     ]
    }
   ],
   "source": [
    "#odd numbers\n",
    "odd=[]\n",
    "for i in l:\n",
    "    if type(i)==list:\n",
    "        for j in i:\n",
    "            if type(j)==int:\n",
    "                if((j%2)==1):\n",
    "                    odd.append(j)\n",
    "                    \n",
    "print(odd)                    "
   ]
  },
  {
   "cell_type": "code",
   "execution_count": 70,
   "id": "1707193a",
   "metadata": {},
   "outputs": [
    {
     "name": "stdout",
     "output_type": "stream",
     "text": [
      "ineuron\n",
      "ineuron\n"
     ]
    }
   ],
   "source": [
    "#extract ineuron\n",
    "for i in l:\n",
    "    if type(i)==list or type(i)==set or type(i)==tuple:\n",
    "        for j in i:\n",
    "            if j=='ineuron':\n",
    "                print(j)\n",
    "    if type(i)==dict:\n",
    "        for k,v in i.items():\n",
    "            if k=='ineuron':\n",
    "                print(k)\n",
    "            if v=='ineuron':\n",
    "                print(v)"
   ]
  },
  {
   "cell_type": "code",
   "execution_count": 53,
   "id": "e93389dd",
   "metadata": {},
   "outputs": [
    {
     "name": "stdout",
     "output_type": "stream",
     "text": [
      "5\n"
     ]
    }
   ],
   "source": [
    "# Number of keys in dict elements\n",
    "l2=[]\n",
    "for i in l:\n",
    "    if type(i)==dict:\n",
    "            l2.append(i.keys())\n",
    "for j in l2:\n",
    "    print(len(j))"
   ]
  },
  {
   "cell_type": "code",
   "execution_count": 57,
   "id": "f2bcd4ba",
   "metadata": {},
   "outputs": [
    {
     "name": "stdout",
     "output_type": "stream",
     "text": [
      "[1, 2, 3, 4, 2, 3, 4, 5, 6, 3, 4, 5, 6, 7, 45, 4, 5, 23, 'k1', 'sudh', 'k2', 'ineuron', 'k3', 'kumar', 3, 6, 7, 8, 'ineuron', 'data science']\n"
     ]
    }
   ],
   "source": [
    "# flat list\n",
    "l3=[]\n",
    "for i in l:\n",
    "    if type(i)==tuple or type(i)==list or type(i)==set:\n",
    "        for j in i:\n",
    "            l3.append(j)\n",
    "            \n",
    "    elif type(i)==dict:\n",
    "        for k,v in i.items():\n",
    "            l3.append(k)\n",
    "            l3.append(v)\n",
    "print(l3)            "
   ]
  },
  {
   "cell_type": "code",
   "execution_count": 60,
   "id": "e2fc8e06",
   "metadata": {},
   "outputs": [
    {
     "name": "stdout",
     "output_type": "stream",
     "text": [
      "1 : 1\n",
      "2 : 2\n",
      "3 : 4\n",
      "4 : 4\n",
      "5 : 3\n",
      "6 : 3\n",
      "7 : 2\n",
      "k3 : 1\n",
      "8 : 1\n",
      "k1 : 1\n",
      "45 : 1\n",
      "sudh : 1\n",
      "ineuron : 2\n",
      "kumar : 1\n",
      "k2 : 1\n",
      "23 : 1\n",
      "data science : 1\n"
     ]
    }
   ],
   "source": [
    "# number of occurances of data\n",
    "for i in set(l3):\n",
    "    print(i,':',l3.count(i))"
   ]
  },
  {
   "cell_type": "code",
   "execution_count": 61,
   "id": "d1372f21",
   "metadata": {},
   "outputs": [
    {
     "name": "stdout",
     "output_type": "stream",
     "text": [
      "k1\n",
      "sudh\n",
      "k2\n",
      "ineuron\n",
      "k3\n",
      "kumar\n",
      "ineuron\n",
      "data science\n"
     ]
    }
   ],
   "source": [
    "# Filter out all the string data\n",
    "for i in l3:\n",
    "    if type(i)==str:\n",
    "        print(i)"
   ]
  },
  {
   "cell_type": "code",
   "execution_count": 63,
   "id": "65ba4122",
   "metadata": {},
   "outputs": [
    {
     "name": "stdout",
     "output_type": "stream",
     "text": [
      "k1\n",
      "sudh\n",
      "k2\n",
      "ineuron\n",
      "k3\n",
      "kumar\n",
      "ineuron\n"
     ]
    }
   ],
   "source": [
    "# alpha numeric\n",
    "for i in l3:\n",
    "    if type(i)==str and i.isalnum():\n",
    "        print(i)"
   ]
  },
  {
   "cell_type": "code",
   "execution_count": 88,
   "id": "7d7809ce",
   "metadata": {},
   "outputs": [
    {
     "name": "stdout",
     "output_type": "stream",
     "text": [
      "24\n",
      "720\n",
      "2520\n",
      "20700\n",
      "1008\n",
      "1\n"
     ]
    }
   ],
   "source": [
    "# Multiplication individual dataset\n",
    "for i in l:\n",
    "    mul=1\n",
    "    if type(i)==tuple or type(i)==list or type(i)==set:\n",
    "        for j in i:\n",
    "            if type(j)==int:\n",
    "                mul=mul*j\n",
    "        print(mul)\n",
    "    if type(i)==dict:\n",
    "        for k,v in i.items():\n",
    "            if type(v)==int:\n",
    "                mul=mul*v\n",
    "            if type(k)==int:\n",
    "                mul=mul*k\n",
    "        print(mul)        "
   ]
  },
  {
   "cell_type": "code",
   "execution_count": null,
   "id": "15cce7bc",
   "metadata": {},
   "outputs": [],
   "source": []
  }
 ],
 "metadata": {
  "kernelspec": {
   "display_name": "Python 3",
   "language": "python",
   "name": "python3"
  },
  "language_info": {
   "codemirror_mode": {
    "name": "ipython",
    "version": 3
   },
   "file_extension": ".py",
   "mimetype": "text/x-python",
   "name": "python",
   "nbconvert_exporter": "python",
   "pygments_lexer": "ipython3",
   "version": "3.8.8"
  }
 },
 "nbformat": 4,
 "nbformat_minor": 5
}
