{
 "cells": [
  {
   "cell_type": "markdown",
   "id": "44dc17d7",
   "metadata": {},
   "source": [
    "## Class Assignment 2"
   ]
  },
  {
   "cell_type": "code",
   "execution_count": 13,
   "id": "4f9842a7",
   "metadata": {},
   "outputs": [],
   "source": [
    "l=[3,4,5,6,7,[23,456,67,8,78,78],[345,56,87,8,89,9],(234,6657,6),{\"key1\":\"sudh\",234:[23,45,656]}]"
   ]
  },
  {
   "cell_type": "markdown",
   "id": "af95ae72",
   "metadata": {},
   "source": [
    "### Reverse a list"
   ]
  },
  {
   "cell_type": "code",
   "execution_count": 14,
   "id": "ab1d2dea",
   "metadata": {},
   "outputs": [
    {
     "data": {
      "text/plain": [
       "[{'key1': 'sudh', 234: [23, 45, 656]},\n",
       " (234, 6657, 6),\n",
       " [345, 56, 87, 8, 89, 9],\n",
       " [23, 456, 67, 8, 78, 78],\n",
       " 7,\n",
       " 6,\n",
       " 5,\n",
       " 4,\n",
       " 3]"
      ]
     },
     "execution_count": 14,
     "metadata": {},
     "output_type": "execute_result"
    }
   ],
   "source": [
    "l[::-1]"
   ]
  },
  {
   "cell_type": "markdown",
   "id": "b11f1a8f",
   "metadata": {},
   "source": [
    "### Access 234"
   ]
  },
  {
   "cell_type": "code",
   "execution_count": 15,
   "id": "98fcacd6",
   "metadata": {},
   "outputs": [
    {
     "data": {
      "text/plain": [
       "234"
      ]
     },
     "execution_count": 15,
     "metadata": {},
     "output_type": "execute_result"
    }
   ],
   "source": [
    "l[7][0]"
   ]
  },
  {
   "cell_type": "markdown",
   "id": "aaa8950f",
   "metadata": {},
   "source": [
    "### Access 456"
   ]
  },
  {
   "cell_type": "code",
   "execution_count": 16,
   "id": "d3d53a45",
   "metadata": {},
   "outputs": [
    {
     "data": {
      "text/plain": [
       "456"
      ]
     },
     "execution_count": 16,
     "metadata": {},
     "output_type": "execute_result"
    }
   ],
   "source": [
    "l[5][1]"
   ]
  },
  {
   "cell_type": "markdown",
   "id": "19bc76ca",
   "metadata": {},
   "source": [
    "### Extract only a list collection"
   ]
  },
  {
   "cell_type": "code",
   "execution_count": 17,
   "id": "e2d63c41",
   "metadata": {},
   "outputs": [
    {
     "data": {
      "text/plain": [
       "[[23, 456, 67, 8, 78, 78], [345, 56, 87, 8, 89, 9]]"
      ]
     },
     "execution_count": 17,
     "metadata": {},
     "output_type": "execute_result"
    }
   ],
   "source": [
    "l[5:7]"
   ]
  },
  {
   "cell_type": "markdown",
   "id": "abaef031",
   "metadata": {},
   "source": [
    "### Extract \"sudh\""
   ]
  },
  {
   "cell_type": "code",
   "execution_count": 18,
   "id": "0c7a0aa8",
   "metadata": {},
   "outputs": [
    {
     "data": {
      "text/plain": [
       "'sudh'"
      ]
     },
     "execution_count": 18,
     "metadata": {},
     "output_type": "execute_result"
    }
   ],
   "source": [
    "l[8]['key1']"
   ]
  },
  {
   "cell_type": "markdown",
   "id": "4c9d811b",
   "metadata": {},
   "source": [
    "### List all keys in the dictionary inside the list"
   ]
  },
  {
   "cell_type": "code",
   "execution_count": 19,
   "id": "d5f084bb",
   "metadata": {},
   "outputs": [
    {
     "data": {
      "text/plain": [
       "dict_keys(['key1', 234])"
      ]
     },
     "execution_count": 19,
     "metadata": {},
     "output_type": "execute_result"
    }
   ],
   "source": [
    "(l[8]).keys()"
   ]
  },
  {
   "cell_type": "markdown",
   "id": "41d02058",
   "metadata": {},
   "source": [
    "###  Extract values from dict inside the list"
   ]
  },
  {
   "cell_type": "code",
   "execution_count": 20,
   "id": "325aa980",
   "metadata": {},
   "outputs": [
    {
     "data": {
      "text/plain": [
       "dict_values(['sudh', [23, 45, 656]])"
      ]
     },
     "execution_count": 20,
     "metadata": {},
     "output_type": "execute_result"
    }
   ],
   "source": [
    "(l[8]).values()"
   ]
  }
 ],
 "metadata": {
  "kernelspec": {
   "display_name": "Python 3",
   "language": "python",
   "name": "python3"
  },
  "language_info": {
   "codemirror_mode": {
    "name": "ipython",
    "version": 3
   },
   "file_extension": ".py",
   "mimetype": "text/x-python",
   "name": "python",
   "nbconvert_exporter": "python",
   "pygments_lexer": "ipython3",
   "version": "3.8.8"
  }
 },
 "nbformat": 4,
 "nbformat_minor": 5
}
