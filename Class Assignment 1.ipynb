{
 "cells": [
  {
   "cell_type": "markdown",
   "id": "6a53fed7",
   "metadata": {},
   "source": [
    "# Class Assignment-1"
   ]
  },
  {
   "cell_type": "code",
   "execution_count": 48,
   "id": "33eb9794",
   "metadata": {},
   "outputs": [],
   "source": [
    "s = \"this is My First Python programming class and i am learNING python string and its function\""
   ]
  },
  {
   "cell_type": "markdown",
   "id": "7b27cef4",
   "metadata": {},
   "source": [
    "### 1. Try to extract data from index one to index 300 with a jump of 3"
   ]
  },
  {
   "cell_type": "code",
   "execution_count": 49,
   "id": "e66c97c2",
   "metadata": {},
   "outputs": [
    {
     "data": {
      "text/plain": [
       "'h   r tnrrmglsnimeNGyosi dtfco'"
      ]
     },
     "execution_count": 49,
     "metadata": {},
     "output_type": "execute_result"
    }
   ],
   "source": [
    "s[1:300:3]"
   ]
  },
  {
   "cell_type": "markdown",
   "id": "9d3b88b3",
   "metadata": {},
   "source": [
    "### 2. Try to reverse a string without using reverse function "
   ]
  },
  {
   "cell_type": "code",
   "execution_count": 50,
   "id": "5df8a74e",
   "metadata": {},
   "outputs": [
    {
     "data": {
      "text/plain": [
       "'noitcnuf sti dna gnirts nohtyp GNINrael ma i dna ssalc gnimmargorp nohtyP tsriF yM si siht'"
      ]
     },
     "execution_count": 50,
     "metadata": {},
     "output_type": "execute_result"
    }
   ],
   "source": [
    "s[::-1]"
   ]
  },
  {
   "cell_type": "markdown",
   "id": "96a426fe",
   "metadata": {},
   "source": [
    "### 3. Try to split a string after conversion of entire string in uppercase"
   ]
  },
  {
   "cell_type": "code",
   "execution_count": 51,
   "id": "d4241e61",
   "metadata": {},
   "outputs": [
    {
     "data": {
      "text/plain": [
       "['THIS',\n",
       " 'IS',\n",
       " 'MY',\n",
       " 'FIRST',\n",
       " 'PYTHON',\n",
       " 'PROGRAMMING',\n",
       " 'CLASS',\n",
       " 'AND',\n",
       " 'I',\n",
       " 'AM',\n",
       " 'LEARNING',\n",
       " 'PYTHON',\n",
       " 'STRING',\n",
       " 'AND',\n",
       " 'ITS',\n",
       " 'FUNCTION']"
      ]
     },
     "execution_count": 51,
     "metadata": {},
     "output_type": "execute_result"
    }
   ],
   "source": [
    "s.upper().split(' ')"
   ]
  },
  {
   "cell_type": "markdown",
   "id": "a7fed86c",
   "metadata": {},
   "source": [
    "### 4. try to convert the whole string into lower case"
   ]
  },
  {
   "cell_type": "code",
   "execution_count": 52,
   "id": "408069f7",
   "metadata": {},
   "outputs": [
    {
     "data": {
      "text/plain": [
       "'this is my first python programming class and i am learning python string and its function'"
      ]
     },
     "execution_count": 52,
     "metadata": {},
     "output_type": "execute_result"
    }
   ],
   "source": [
    "s.lower()"
   ]
  },
  {
   "cell_type": "markdown",
   "id": "2478a2a8",
   "metadata": {},
   "source": [
    "### 5 . Try to capitalize the whole string "
   ]
  },
  {
   "cell_type": "code",
   "execution_count": 53,
   "id": "9e296782",
   "metadata": {},
   "outputs": [
    {
     "data": {
      "text/plain": [
       "'This is my first python programming class and i am learning python string and its function'"
      ]
     },
     "execution_count": 53,
     "metadata": {},
     "output_type": "execute_result"
    }
   ],
   "source": [
    "s.capitalize()"
   ]
  },
  {
   "cell_type": "markdown",
   "id": "71f94eee",
   "metadata": {},
   "source": [
    "### 6 . Write a diference between isalnum() and isalpha()"
   ]
  },
  {
   "cell_type": "markdown",
   "id": "1a5eda02",
   "metadata": {},
   "source": [
    "Ans:- If the string contains numbers and characters or only numbers or only characters then the isalnum() function will return true as it is alphanumeric. If the string contains only and only characters then is alpha() function will return true as the string is alphabetic. examples are as follows:"
   ]
  },
  {
   "cell_type": "code",
   "execution_count": 54,
   "id": "83c9acdf",
   "metadata": {},
   "outputs": [],
   "source": [
    "a='abcdef'\n",
    "b='abc678'"
   ]
  },
  {
   "cell_type": "code",
   "execution_count": 55,
   "id": "10fcf5b0",
   "metadata": {},
   "outputs": [
    {
     "data": {
      "text/plain": [
       "True"
      ]
     },
     "execution_count": 55,
     "metadata": {},
     "output_type": "execute_result"
    }
   ],
   "source": [
    "a.isalpha()"
   ]
  },
  {
   "cell_type": "code",
   "execution_count": 56,
   "id": "89ff1970",
   "metadata": {},
   "outputs": [
    {
     "data": {
      "text/plain": [
       "True"
      ]
     },
     "execution_count": 56,
     "metadata": {},
     "output_type": "execute_result"
    }
   ],
   "source": [
    "a.isalnum()"
   ]
  },
  {
   "cell_type": "code",
   "execution_count": 57,
   "id": "6e16bc76",
   "metadata": {},
   "outputs": [
    {
     "data": {
      "text/plain": [
       "False"
      ]
     },
     "execution_count": 57,
     "metadata": {},
     "output_type": "execute_result"
    }
   ],
   "source": [
    "b.isalpha()"
   ]
  },
  {
   "cell_type": "code",
   "execution_count": 58,
   "id": "3dc2c18b",
   "metadata": {},
   "outputs": [
    {
     "data": {
      "text/plain": [
       "True"
      ]
     },
     "execution_count": 58,
     "metadata": {},
     "output_type": "execute_result"
    }
   ],
   "source": [
    "b.isalnum()"
   ]
  },
  {
   "cell_type": "markdown",
   "id": "4ce1f2d5",
   "metadata": {},
   "source": [
    "### 7. Try to give an example of expand tab "
   ]
  },
  {
   "cell_type": "code",
   "execution_count": 59,
   "id": "b20e8663",
   "metadata": {},
   "outputs": [],
   "source": [
    "c='This\\t is\\t my\\t class\\t'"
   ]
  },
  {
   "cell_type": "code",
   "execution_count": 60,
   "id": "b750e9b0",
   "metadata": {},
   "outputs": [
    {
     "data": {
      "text/plain": [
       "'This     is      my      class  '"
      ]
     },
     "execution_count": 60,
     "metadata": {},
     "output_type": "execute_result"
    }
   ],
   "source": [
    "c.expandtabs()"
   ]
  },
  {
   "cell_type": "markdown",
   "id": "1bee0af3",
   "metadata": {},
   "source": [
    "### 8 . Give an example of strip , lstrip and rstrip "
   ]
  },
  {
   "cell_type": "code",
   "execution_count": 61,
   "id": "704e2d11",
   "metadata": {},
   "outputs": [],
   "source": [
    "d='   hello   world   '"
   ]
  },
  {
   "cell_type": "code",
   "execution_count": 62,
   "id": "213e4ddc",
   "metadata": {},
   "outputs": [
    {
     "data": {
      "text/plain": [
       "'hello   world'"
      ]
     },
     "execution_count": 62,
     "metadata": {},
     "output_type": "execute_result"
    }
   ],
   "source": [
    "d.strip()"
   ]
  },
  {
   "cell_type": "code",
   "execution_count": 63,
   "id": "4fd54f4b",
   "metadata": {},
   "outputs": [
    {
     "data": {
      "text/plain": [
       "'hello   world   '"
      ]
     },
     "execution_count": 63,
     "metadata": {},
     "output_type": "execute_result"
    }
   ],
   "source": [
    "d.lstrip()"
   ]
  },
  {
   "cell_type": "code",
   "execution_count": 64,
   "id": "55dc024c",
   "metadata": {},
   "outputs": [
    {
     "data": {
      "text/plain": [
       "'   hello   world'"
      ]
     },
     "execution_count": 64,
     "metadata": {},
     "output_type": "execute_result"
    }
   ],
   "source": [
    "d.rstrip()"
   ]
  },
  {
   "cell_type": "markdown",
   "id": "5c22ad9f",
   "metadata": {},
   "source": [
    "### 9.  Replace a string character by another character by taking your own example "
   ]
  },
  {
   "cell_type": "code",
   "execution_count": 65,
   "id": "be485764",
   "metadata": {},
   "outputs": [],
   "source": [
    "e='notebook'"
   ]
  },
  {
   "cell_type": "code",
   "execution_count": 66,
   "id": "fdf1713d",
   "metadata": {},
   "outputs": [
    {
     "data": {
      "text/plain": [
       "'natebaak'"
      ]
     },
     "execution_count": 66,
     "metadata": {},
     "output_type": "execute_result"
    }
   ],
   "source": [
    "e.replace('o','a')"
   ]
  },
  {
   "cell_type": "markdown",
   "id": "74791c67",
   "metadata": {},
   "source": [
    "### 10 . Try  to give a defination of string center function with and exmple "
   ]
  },
  {
   "cell_type": "markdown",
   "id": "319e3525",
   "metadata": {},
   "source": [
    "Ans:- The string center() takes 2 parameters. The first integer parameter is used to allocate memory and the second parameter is used to fill the blank spaces before and after the string to cover the allocated space. It places the string at the center."
   ]
  },
  {
   "cell_type": "code",
   "execution_count": 67,
   "id": "99734125",
   "metadata": {},
   "outputs": [],
   "source": [
    "f='apple'"
   ]
  },
  {
   "cell_type": "code",
   "execution_count": 68,
   "id": "c63a0021",
   "metadata": {},
   "outputs": [
    {
     "data": {
      "text/plain": [
       "'************apple*************'"
      ]
     },
     "execution_count": 68,
     "metadata": {},
     "output_type": "execute_result"
    }
   ],
   "source": [
    "f.center(30,'*')"
   ]
  },
  {
   "cell_type": "markdown",
   "id": "6cfaf18c",
   "metadata": {},
   "source": [
    "### 11 . Write your own definition of compiler and interpretor without copy paste form internet in your own language"
   ]
  },
  {
   "cell_type": "markdown",
   "id": "e81fb3da",
   "metadata": {},
   "source": [
    "Ans:- Compiler checks the entire code and interpreter checks the code line by line."
   ]
  },
  {
   "cell_type": "markdown",
   "id": "4e928632",
   "metadata": {},
   "source": [
    "### 12 . Python is a interpreted of compiled language give a clear ans with your understanding "
   ]
  },
  {
   "cell_type": "markdown",
   "id": "1a34af7d",
   "metadata": {},
   "source": [
    "Ans:- Python is an interpreter language. It checks the code line by line and converts the code into byte code."
   ]
  },
  {
   "cell_type": "markdown",
   "id": "70f9ef8b",
   "metadata": {},
   "source": [
    "### 13 . Try to write a usecase of python with your understanding ."
   ]
  },
  {
   "cell_type": "markdown",
   "id": "3b344832",
   "metadata": {},
   "source": [
    "Ans:- Python can be used to develop games. Vast use of python is in Data Science. It is all in one language. We can also use it for creating GUIs using tkinter library."
   ]
  },
  {
   "cell_type": "code",
   "execution_count": null,
   "id": "9b9bcb4f",
   "metadata": {},
   "outputs": [],
   "source": []
  },
  {
   "cell_type": "code",
   "execution_count": null,
   "id": "a8cc1705",
   "metadata": {},
   "outputs": [],
   "source": []
  }
 ],
 "metadata": {
  "kernelspec": {
   "display_name": "Python 3",
   "language": "python",
   "name": "python3"
  },
  "language_info": {
   "codemirror_mode": {
    "name": "ipython",
    "version": 3
   },
   "file_extension": ".py",
   "mimetype": "text/x-python",
   "name": "python",
   "nbconvert_exporter": "python",
   "pygments_lexer": "ipython3",
   "version": "3.8.8"
  }
 },
 "nbformat": 4,
 "nbformat_minor": 5
}
